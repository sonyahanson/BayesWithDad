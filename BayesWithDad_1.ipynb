{
 "cells": [
  {
   "cell_type": "markdown",
   "metadata": {},
   "source": [
    "### July 13, 2015\n",
    "\n",
    "####A brief attempt at a bayesian tutorial for my dad."
   ]
  },
  {
   "cell_type": "code",
   "execution_count": 9,
   "metadata": {
    "collapsed": false
   },
   "outputs": [
    {
     "name": "stdout",
     "output_type": "stream",
     "text": [
      "Populating the interactive namespace from numpy and matplotlib\n"
     ]
    }
   ],
   "source": [
    "import matplotlib.pyplot as plt\n",
    "import numpy as np\n",
    "import pymc\n",
    "\n",
    "%pylab inline"
   ]
  },
  {
   "cell_type": "markdown",
   "metadata": {
    "collapsed": true
   },
   "source": [
    "For this we are going to use a simple example from this website: http://sabermetricinsights.blogspot.com/2014/05/bayesian-linear-regression-with-pymc.html\n"
   ]
  },
  {
   "cell_type": "markdown",
   "metadata": {},
   "source": [
    "We're going to try to model the mpg of a car as a function of the car's weight, i.e., \n",
    "$$mpg = b0 + b1 * weight + error$$"
   ]
  },
  {
   "cell_type": "code",
   "execution_count": 10,
   "metadata": {
    "collapsed": true
   },
   "outputs": [],
   "source": [
    "cars_data =  ({\"weight\": [ 4.36, 4.054, 3.605, 3.94, 2.155, 2.56, 2.3, 2.23, 2.83, 3.14, 2.795,\n",
    "               3.41, 3.38, 3.07, 3.62, 3.41, 3.84, 3.725, 3.955, 3.83, 2.585, 2.91, \n",
    "               1.975, 1.915, 2.67, 1.99, 2.135, 2.67, 2.595, 2.7, 2.556, 2.2, 2.02,\n",
    "               2.13, 2.19, 2.815, 2.6],\n",
    "              \"mpg\": [16.9, 15.5, 19.2, 18.5, 30, 27.5, 27.2, 30.9, 20.3, 19.5, 21.6, 16.2, \n",
    "               20.6, 20.8, 18.6, 18.1, 17, 17.6, 16.5, 18.2, 26.5, 21.9, 34.1, 35.1, \n",
    "               27.4, 31.5, 29.5, 28.4, 28.8, 26.8, 33.5, 34.2, 31.8, 37.3, 30.5, 22, 21.5]})"
   ]
  },
  {
   "cell_type": "code",
   "execution_count": 11,
   "metadata": {
    "collapsed": false
   },
   "outputs": [],
   "source": [
    "# NOTE: the linear regression model we're trying to solve for is \n",
    "# given by:\n",
    "# y = b0 + b1(x) + error\n",
    "# where b0 is the intercept term, b1 is the slope, and error is \n",
    "# the error\n",
    "\n",
    "# model the intercept/slope terms of our model as \n",
    "# normal random variables with comically large variances\n",
    "b0 = pymc.Normal(\"b0\", 0, 0.0003)\n",
    "b1 = pymc.Normal(\"b1\", 0, 0.0003)\n",
    "\n",
    "# model our error term as a uniform random variable\n",
    "err = pymc.Uniform(\"err\", 0, 500)\n",
    "\n",
    "\n",
    "# \"model\" the observed x values as a normal random variable\n",
    "# in reality, because x is observed, it doesn't actually matter\n",
    "# how we choose to model x -- PyMC isn't going to change x's values\n",
    "x_weight = pymc.Normal(\"weight\", 0, 1, value=np.array(cars_data[\"weight\"]), observed=True)\n",
    "\n",
    "# this is the heart of our model: given our b0, b1 and our x observations, we want\n",
    "# to predict y\n",
    "@pymc.deterministic\n",
    "def pred(b0=b0, b1=b1, x=x_weight):\n",
    "    return b0 + b1*x\n",
    "\n",
    "# \"model\" the observed y values: again, I reiterate that PyMC treats y as \n",
    "# evidence -- as fixed; it's going to use this as evidence in updating our belief\n",
    "# about the \"unobserved\" parameters (b0, b1, and err), which are the \n",
    "# things we're interested in inferring after all\n",
    "y = pymc.Normal(\"y\", pred, err, value=np.array(cars_data[\"mpg\"]), observed=True)\n",
    "\n",
    "# put everything we've modeled into a PyMC model\n",
    "model = pymc.Model([pred, b0, b1, y, err, x_weight])"
   ]
  },
  {
   "cell_type": "code",
   "execution_count": 12,
   "metadata": {
    "collapsed": false
   },
   "outputs": [],
   "source": [
    "#This requires installing some things so we won't worry about it for now.\n",
    "#import pymc.graph\n",
    "#graph = pymc.graph.graph(model)\n",
    "#graph.write_png('univariate.png')"
   ]
  },
  {
   "cell_type": "code",
   "execution_count": 13,
   "metadata": {
    "collapsed": false
   },
   "outputs": [
    {
     "name": "stdout",
     "output_type": "stream",
     "text": [
      " [-----------------100%-----------------] 50000 of 50000 complete in 4.6 sec"
     ]
    }
   ],
   "source": [
    "# prepare for MCMC\n",
    "mcmc = pymc.MCMC(model)\n",
    "\n",
    "# sample from our posterior distribution 50,000 times, but\n",
    "# throw the first 20,000 samples out to ensure that we're only\n",
    "# sampling from our steady-state posterior distribution\n",
    "mcmc.sample(50000, 20000)"
   ]
  },
  {
   "cell_type": "code",
   "execution_count": 15,
   "metadata": {
    "collapsed": false
   },
   "outputs": [
    {
     "name": "stdout",
     "output_type": "stream",
     "text": [
      "-8.48565608161\n"
     ]
    },
    {
     "data": {
      "image/png": "[encoded data removed]",
      "text/plain": [
       "<matplotlib.figure.Figure at 0x1130cdfd0>"
      ]
     },
     "metadata": {},
     "output_type": "display_data"
    }
   ],
   "source": [
    "print np.mean(mcmc.trace('b1')[:])\n",
    "plt.hist(mcmc.trace('b1')[:], bins=50);"
   ]
  },
  {
   "cell_type": "code",
   "execution_count": null,
   "metadata": {
    "collapsed": true
   },
   "outputs": [],
   "source": []
  }
 ],
 "metadata": {
  "kernelspec": {
   "display_name": "Python 2",
   "language": "python",
   "name": "python2"
  },
  "language_info": {
   "codemirror_mode": {
    "name": "ipython",
    "version": 2
   },
   "file_extension": ".py",
   "mimetype": "text/x-python",
   "name": "python",
   "nbconvert_exporter": "python",
   "pygments_lexer": "ipython2",
   "version": "2.7.10"
  }
 },
 "nbformat": 4,
 "nbformat_minor": 0
}
